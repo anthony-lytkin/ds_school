{
  "nbformat": 4,
  "nbformat_minor": 0,
  "metadata": {
    "colab": {
      "name": "HW1",
      "provenance": []
    },
    "kernelspec": {
      "name": "python3",
      "display_name": "Python 3"
    }
  },
  "cells": [
    {
      "cell_type": "markdown",
      "metadata": {
        "id": "26urRVf_jK6E"
      },
      "source": [
        "**Ex. 1**"
      ]
    },
    {
      "cell_type": "code",
      "metadata": {
        "id": "HVaX8CrqmK0q"
      },
      "source": [
        "#List comprehensions:\n",
        "lst = [i for i in range(1,11)]\n",
        "\n",
        "#For loop:\n",
        "lst = []\n",
        "\n",
        "for i in range(1, 11): \n",
        "  lst.append(i)\n",
        "\n",
        "#print(lst)"
      ],
      "execution_count": 15,
      "outputs": []
    },
    {
      "cell_type": "markdown",
      "metadata": {
        "id": "UBpbaOdnly1k"
      },
      "source": [
        "**Ex. 2**"
      ]
    },
    {
      "cell_type": "code",
      "metadata": {
        "id": "dQcE97Rql1AY"
      },
      "source": [
        "#List comprehensions:\n",
        "lst = [i for i in range(1, 11) if i % 2 == 0]\n",
        "\n",
        "#For loop:\n",
        "lst = []\n",
        "\n",
        "for i in range (1, 11): \n",
        "  if i % 2 == 0: \n",
        "    lst.append(i)\n",
        "\n",
        "#Alter for loop:\n",
        "lst = []\n",
        "\n",
        "for i in range (2, 11, 2):\n",
        "  lst.append(i)\n",
        "\n",
        "#print(lst)"
      ],
      "execution_count": 27,
      "outputs": []
    },
    {
      "cell_type": "markdown",
      "metadata": {
        "id": "1-11Zd4rm-aH"
      },
      "source": [
        "**Ex. 3**"
      ]
    },
    {
      "cell_type": "code",
      "metadata": {
        "id": "b83d42KDnOrg"
      },
      "source": [
        "x = (100 ** 3) ** 2 - 10 ** 3 / 5 ** 2\n",
        "#print(x)"
      ],
      "execution_count": 30,
      "outputs": []
    },
    {
      "cell_type": "markdown",
      "metadata": {
        "id": "oRGAeJbrngBO"
      },
      "source": [
        "**Ex. 4**"
      ]
    },
    {
      "cell_type": "code",
      "metadata": {
        "colab": {
          "base_uri": "https://localhost:8080/"
        },
        "id": "EANSiaqunihz",
        "outputId": "3b0e55d9-f9ea-4f87-b2a2-4e63761d28f5"
      },
      "source": [
        "if 3 ** 7 < 7 ** 5: \n",
        "  print(3 ** 15 > 3000)\n",
        "else: \n",
        "  print(False)"
      ],
      "execution_count": 42,
      "outputs": [
        {
          "output_type": "stream",
          "text": [
            "True\n"
          ],
          "name": "stdout"
        }
      ]
    },
    {
      "cell_type": "markdown",
      "metadata": {
        "id": "2YAp8BLuqa8W"
      },
      "source": [
        "**Ex. 5**"
      ]
    },
    {
      "cell_type": "code",
      "metadata": {
        "colab": {
          "base_uri": "https://localhost:8080/"
        },
        "id": "d9pbYAn8qjJj",
        "outputId": "c766a179-fa35-4daa-cc50-b9616f7fd9a8"
      },
      "source": [
        "price = int(input('Input price: '))\n",
        "\n",
        "if price > 1200:\n",
        "  print('Higher than market price.')\n",
        "elif price < 800:\n",
        "  print('Lower than market price.')\n",
        "else:\n",
        "  print('Everything is ok.')"
      ],
      "execution_count": 46,
      "outputs": [
        {
          "output_type": "stream",
          "text": [
            "Input price: 1500\n",
            "Higher than market price.\n"
          ],
          "name": "stdout"
        }
      ]
    },
    {
      "cell_type": "markdown",
      "metadata": {
        "id": "qqn_4r1XtzJM"
      },
      "source": [
        "**Ex. 6**"
      ]
    },
    {
      "cell_type": "code",
      "metadata": {
        "id": "6-WjhjJNt11L"
      },
      "source": [
        "dct_1 = {'price_1': 300,\n",
        "         'price_2': 400}\n",
        "\n",
        "dct_2 = {'price_1': 500,\n",
        "         'price_3': 600}\n",
        "\n",
        "dct_1.update(dct_2)\n",
        "\n",
        "#print(dct_1)"
      ],
      "execution_count": 50,
      "outputs": []
    },
    {
      "cell_type": "markdown",
      "metadata": {
        "id": "yKP7h1zqum1T"
      },
      "source": [
        "**Ex. 7**"
      ]
    },
    {
      "cell_type": "code",
      "metadata": {
        "colab": {
          "base_uri": "https://localhost:8080/"
        },
        "id": "cN4gih1sup8s",
        "outputId": "cc6c924c-4647-4af8-86aa-dbb7c9cc1f48"
      },
      "source": [
        "import numpy as np\n",
        "from time import time\n",
        "\n",
        "lst1 = lst2 = [i for i in range(1, 10 ** 6 + 1)]\n",
        "init_time = time()\n",
        "\n",
        "res = [i / j for i, j in zip(lst1, lst2)]\n",
        "print('Time for division of lists: {:f} s'.format(time() - init_time))\n",
        "\n",
        "array1 = array2 = np.arange(1, 10 ** 6 + 1)\n",
        "init_time = time()\n",
        "\n",
        "res = array1 / array2\n",
        "print('Time for division of array: {:f} s'.format(time() - init_time))"
      ],
      "execution_count": 75,
      "outputs": [
        {
          "output_type": "stream",
          "text": [
            "Time for division of lists: 0.081595 s\n",
            "Time for division of array: 0.014722 s\n"
          ],
          "name": "stdout"
        }
      ]
    },
    {
      "cell_type": "markdown",
      "metadata": {
        "id": "0_HZTI-F1t7x"
      },
      "source": [
        "**Ex. 8**"
      ]
    },
    {
      "cell_type": "code",
      "metadata": {
        "colab": {
          "base_uri": "https://localhost:8080/"
        },
        "id": "mR6lQ6T-1zaK",
        "outputId": "edb779b6-82dd-483d-b571-7b927e67d600"
      },
      "source": [
        "for i in range(1, 501):\n",
        "  if i % 7 == 0 and str(i).find('8') > -1:\n",
        "    print(i, end = ' ')"
      ],
      "execution_count": 90,
      "outputs": [
        {
          "output_type": "stream",
          "text": [
            "28 84 98 168 182 189 238 280 287 308 378 385 448 483 "
          ],
          "name": "stdout"
        }
      ]
    },
    {
      "cell_type": "markdown",
      "metadata": {
        "id": "1-KSqcPM452j"
      },
      "source": [
        "**Ex. 9**"
      ]
    },
    {
      "cell_type": "code",
      "metadata": {
        "id": "um_9AtHA48MM"
      },
      "source": [
        "mas = ['abc', 'def', 'hello', 'world', 'hello']\n",
        "\n",
        "#First occurrence:\n",
        "dct = {word: (mas.index(word), len(word)) for word in mas}\n",
        "\n",
        "#Last occurrence:\n",
        "dct = {mas[i]: (i, len(mas[i])) for i in range(0, len(mas) - 1)}\n",
        "\n",
        "#print(dct)"
      ],
      "execution_count": 103,
      "outputs": []
    },
    {
      "cell_type": "markdown",
      "metadata": {
        "id": "kfj6QrBf_Hck"
      },
      "source": [
        "Ex. **10**"
      ]
    },
    {
      "cell_type": "code",
      "metadata": {
        "colab": {
          "base_uri": "https://localhost:8080/"
        },
        "id": "0zwaSPx3_Jjs",
        "outputId": "02c29bfc-c4aa-4742-89d1-486f94c0eabd"
      },
      "source": [
        "summ = 0\n",
        "names = []\n",
        "\n",
        "# Your code here:\n",
        "\n",
        "def another_func(*args, **kwargs):\n",
        "  foo = lambda tpl, dct: sum(tpl)\n",
        "\n",
        "  print(foo(args, kwargs))\n",
        "\n",
        "  global summ, names\n",
        "  summ = foo(args, kwargs)\n",
        "  names.extend([key for key in kwargs.keys()])\n",
        "\n",
        "# End code\n",
        "\n",
        "another_func(1, 2, 3, a=4, b=5)\n",
        "\n",
        "print(f'Cумма {summ}, названия {names}')"
      ],
      "execution_count": 265,
      "outputs": [
        {
          "output_type": "stream",
          "text": [
            "6\n",
            "Cумма 6, названия ['a', 'b']\n"
          ],
          "name": "stdout"
        }
      ]
    }
  ]
}