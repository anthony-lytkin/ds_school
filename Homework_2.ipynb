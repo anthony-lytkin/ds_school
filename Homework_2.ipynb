{
  "nbformat": 4,
  "nbformat_minor": 0,
  "metadata": {
    "colab": {
      "name": "Homework 2",
      "provenance": [],
      "authorship_tag": "ABX9TyOGde55lXgBkXoavfcMjmUm",
      "include_colab_link": true
    },
    "kernelspec": {
      "name": "python3",
      "display_name": "Python 3"
    }
  },
  "cells": [
    {
      "cell_type": "markdown",
      "metadata": {
        "id": "view-in-github",
        "colab_type": "text"
      },
      "source": [
        "<a href=\"https://colab.research.google.com/github/anthony-lytkin/ds_school/blob/main/Homework_2.ipynb\" target=\"_parent\"><img src=\"https://colab.research.google.com/assets/colab-badge.svg\" alt=\"Open In Colab\"/></a>"
      ]
    },
    {
      "cell_type": "markdown",
      "metadata": {
        "id": "GoiIzTKreINi"
      },
      "source": [
        "*Import libraries*"
      ]
    },
    {
      "cell_type": "code",
      "metadata": {
        "id": "0noqqig3eCuw"
      },
      "source": [
        "import numpy as np\n",
        "import pandas as pd"
      ],
      "execution_count": 2,
      "outputs": []
    },
    {
      "cell_type": "markdown",
      "metadata": {
        "id": "BAmtWjv5f5qW"
      },
      "source": [
        "**Ex. 1**"
      ]
    },
    {
      "cell_type": "code",
      "metadata": {
        "colab": {
          "base_uri": "https://localhost:8080/"
        },
        "id": "GpcFQar1f8gw",
        "outputId": "4fb3db09-730e-4c93-9a28-b2048efac564"
      },
      "source": [
        "arr = np.arange(1, 101, dtype = np.int16).reshape(10, 10)[::2, ::2]\n",
        "\n",
        "print(arr)"
      ],
      "execution_count": 491,
      "outputs": [
        {
          "output_type": "stream",
          "text": [
            "[[ 1  3  5  7  9]\n",
            " [21 23 25 27 29]\n",
            " [41 43 45 47 49]\n",
            " [61 63 65 67 69]\n",
            " [81 83 85 87 89]]\n"
          ],
          "name": "stdout"
        }
      ]
    },
    {
      "cell_type": "markdown",
      "metadata": {
        "id": "EuFblJsF5Qko"
      },
      "source": [
        "**Ex. 2**"
      ]
    },
    {
      "cell_type": "code",
      "metadata": {
        "colab": {
          "base_uri": "https://localhost:8080/"
        },
        "id": "IrlhevSH5UqW",
        "outputId": "862866a0-5629-4e5d-f0e2-3579282636e1"
      },
      "source": [
        "%%time\n",
        "\n",
        "lngth_sqnc = 10 ** 8\n",
        "\n",
        "avg = sum(i for i in range(lngth_sqnc)) / lngth_sqnc\n",
        "\n",
        "print(avg)"
      ],
      "execution_count": 304,
      "outputs": [
        {
          "output_type": "stream",
          "text": [
            "49999999.5\n",
            "CPU times: user 5.4 s, sys: 0 ns, total: 5.4 s\n",
            "Wall time: 5.41 s\n"
          ],
          "name": "stdout"
        }
      ]
    },
    {
      "cell_type": "code",
      "metadata": {
        "colab": {
          "base_uri": "https://localhost:8080/"
        },
        "id": "GFP86NKN8EH7",
        "outputId": "dd1574d5-cbac-4a29-e2de-f593d1934794"
      },
      "source": [
        "%%time\n",
        "\n",
        "lngth_sqnc = 10 ** 8\n",
        "\n",
        "arr = np.average(np.arange(lngth_sqnc))\n",
        "\n",
        "#print(avg)"
      ],
      "execution_count": 335,
      "outputs": [
        {
          "output_type": "stream",
          "text": [
            "CPU times: user 355 ms, sys: 1.95 ms, total: 357 ms\n",
            "Wall time: 364 ms\n"
          ],
          "name": "stdout"
        }
      ]
    },
    {
      "cell_type": "markdown",
      "metadata": {
        "id": "RLZ9Y76vAW7i"
      },
      "source": [
        "**Ex. 3**"
      ]
    },
    {
      "cell_type": "code",
      "metadata": {
        "colab": {
          "base_uri": "https://localhost:8080/"
        },
        "id": "CbEAouHyAZPH",
        "outputId": "ecbaeb0c-47e8-4a1c-8df8-8cbe29f5f30d"
      },
      "source": [
        "r = np.random.RandomState(1)\n",
        "s = pd.Series(r.uniform(0,10,100))\n",
        "\n",
        "def search_index (s):\n",
        "    for i in s:\n",
        "        if i >= 5:\n",
        "            return (s[s == i]).index[0]\n",
        "\n",
        "print(search_index(s.sort_values(ascending=True)))"
      ],
      "execution_count": 428,
      "outputs": [
        {
          "output_type": "stream",
          "text": [
            "67\n"
          ],
          "name": "stdout"
        }
      ]
    },
    {
      "cell_type": "markdown",
      "metadata": {
        "id": "v0BHmEH4VGD7"
      },
      "source": [
        "**Ex. 4**"
      ]
    },
    {
      "cell_type": "code",
      "metadata": {
        "colab": {
          "base_uri": "https://localhost:8080/",
          "height": 282
        },
        "id": "bpq_hfAhVIV9",
        "outputId": "785a3975-11ce-4597-ef3b-469b6879b9c2"
      },
      "source": [
        "import random\n",
        "import matplotlib.pyplot as plt\n",
        "\n",
        "a = np.linspace(0, 25, 100)\n",
        "a = np.sin(a) + [random.gauss(0, 0.2) for i in range(len(a))]\n",
        "\n",
        "for i in range(10):\n",
        "    a[random.randint(0, len(a) - 1)] = None\n",
        "df = pd.DataFrame({'target':a})\n",
        "\n",
        "# Your code here:\n",
        "\n",
        "df = df.fillna(method='ffill')\n",
        "\n",
        "# End code\n",
        "\n",
        "plt.plot(df.target.values)"
      ],
      "execution_count": 488,
      "outputs": [
        {
          "output_type": "execute_result",
          "data": {
            "text/plain": [
              "[<matplotlib.lines.Line2D at 0x7fdc27ddee80>]"
            ]
          },
          "metadata": {
            "tags": []
          },
          "execution_count": 488
        },
        {
          "output_type": "display_data",
          "data": {
            "image/png": "[encoded data removed]",
            "text/plain": [
              "<Figure size 432x288 with 1 Axes>"
            ]
          },
          "metadata": {
            "tags": [],
            "needs_background": "light"
          }
        }
      ]
    },
    {
      "cell_type": "markdown",
      "metadata": {
        "id": "PNyKFbmDdqzw"
      },
      "source": [
        "**Ex. 5**"
      ]
    },
    {
      "cell_type": "code",
      "metadata": {
        "id": "UFvcik10duwH"
      },
      "source": [
        "df = pd.DataFrame({\n",
        "    'имя': ['Петя', 'Вася', 'Аня', 'Света'],\n",
        "    'возраст': [45, 26, 41 , 21],\n",
        "    'доход': [100000, 80000, 150000, 60000],\n",
        "    'надежность клиента (0..1)': [0.65, 0.74, 0.87, 0.68],\n",
        "    'пол': ['муж', 'муж', 'жен', 'жен']},\n",
        "    index=[0, 1, 2, 3])\n",
        "\n",
        "#df[df['возраст'] > 40]\n",
        "#df[df['доход'] > df['доход'].mean()]\n",
        "#df[(df['доход'] > df['доход'].mean()) & (\n",
        "    #df['надежность клиента (0..1)'] < df['надежность клиента (0..1)'].mean()) ]\n",
        "\n",
        "\n",
        "#Creating Report ''Customer importance''\n",
        "\n",
        "cstmr_imprtnc = pd.DataFrame({\n",
        "    'имя': [],\n",
        "    'важность': []\n",
        "})\n",
        "\n",
        "cstmr_imprtnc['имя'] = df['имя']\n",
        "cstmr_imprtnc['важность'] = 1 * df['доход'] * df['надежность клиента (0..1)']\n",
        "\n",
        "\n",
        "#Creating Report ''Duration''\n",
        "\n",
        "cstmr_drtn = pd.DataFrame({\n",
        "    'имя': [],\n",
        "    'возможная долгосрочность клиента': []\n",
        "})\n",
        "\n",
        "cstmr_drtn['имя'] = df['имя']\n",
        "cstmr_drtn['возможная долгосрочность клиента'] = cstmr_imprtnc['важность'] * (\n",
        "    df['возраст'].mean() - df['возраст']\n",
        ")\n",
        "\n",
        "#cstmr_imprtnc\n",
        "#cstmr_drtn"
      ],
      "execution_count": 619,
      "outputs": []
    },
    {
      "cell_type": "code",
      "metadata": {
        "id": "YEbqT7Qc03qP"
      },
      "source": [
        "# Ex. 5 Summary\n",
        "\n",
        "df[df['возраст'] > 40]\n",
        "df[df['доход'] > df['доход'].mean()]\n",
        "df[(df['доход'] > df['доход'].mean()) & (\n",
        "    df['надежность клиента (0..1)'] < df['надежность клиента (0..1)'].mean()) ]\n",
        "\n",
        "cstmr_imprtnc\n",
        "cstmr_drtn"
      ],
      "execution_count": 623,
      "outputs": []
    }
  ]
}