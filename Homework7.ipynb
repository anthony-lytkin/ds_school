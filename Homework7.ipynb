{
  "nbformat": 4,
  "nbformat_minor": 0,
  "metadata": {
    "colab": {
      "name": "Homework 7.ipynb",
      "provenance": [],
      "authorship_tag": "ABX9TyNBG2iYcpBUZE/y23LxX93N",
      "include_colab_link": true
    },
    "kernelspec": {
      "name": "python3",
      "display_name": "Python 3"
    }
  },
  "cells": [
    {
      "cell_type": "markdown",
      "metadata": {
        "id": "view-in-github",
        "colab_type": "text"
      },
      "source": [
        "<a href=\"https://colab.research.google.com/github/anthony-lytkin/ds_school/blob/main/Homework7.ipynb\" target=\"_parent\"><img src=\"https://colab.research.google.com/assets/colab-badge.svg\" alt=\"Open In Colab\"/></a>"
      ]
    },
    {
      "cell_type": "markdown",
      "metadata": {
        "id": "fn3eWwBRw-Ad"
      },
      "source": [
        "**Ex. 2**\n",
        "\n",
        "$$ A = \n",
        "\\begin{pmatrix} \n",
        "1 & -2 \\\\ \n",
        "3 & 0 \n",
        "\\end{pmatrix}, \\;\\;\\;\n",
        "B = \n",
        "\\begin{pmatrix} \n",
        "4 & -1 \\\\ \n",
        "0 & 5 \\end{pmatrix}\n",
        "$$  \n",
        "$$ A + B = \n",
        "\\begin{pmatrix} \n",
        "1 + 4 & -2 - 1 \\\\ \n",
        "3 + 0 & 0 + 5 \n",
        "\\end{pmatrix} = \n",
        "\\begin{pmatrix} \n",
        "5 & -3 \\\\ \n",
        "3 & 5 \\end{pmatrix}\n",
        "$$  \n",
        "$$ A \\cdot B = \n",
        "\\begin{pmatrix}\n",
        "1 \\cdot 4 + 1 \\cdot 0 & 1 \\cdot (-1) + (-2) \\cdot 5 \\\\\n",
        "3 \\cdot 4 + 0 \\cdot 0 & 3 \\cdot (-1) + 0 \\cdot 5\n",
        "\\end{pmatrix} = \n",
        "\\begin{pmatrix}\n",
        "4 & -11 \\\\\n",
        "12 & -3\n",
        "\\end{pmatrix}\n",
        "$$"
      ]
    },
    {
      "cell_type": "code",
      "metadata": {
        "id": "s9I50XF63cLz"
      },
      "source": [
        "import numpy as np\n",
        "\n",
        "A = np.array([[1, -2], [3, 0]])\n",
        "B = np.array([[4, -1], [0, 5]])\n",
        "\n",
        "print('A + B = \\n', A + B, '\\n')\n",
        "print('A * B = \\n', np.dot(A, B))"
      ],
      "execution_count": null,
      "outputs": []
    },
    {
      "cell_type": "markdown",
      "metadata": {
        "id": "dJ9JMCaE6Ik7"
      },
      "source": [
        "**Ex. 3**\n",
        "\n",
        "$$ A = \n",
        "\\begin{pmatrix} \n",
        "1 & 7 \\\\ \n",
        "3 & -6 \n",
        "\\end{pmatrix}, \\;\\;\\;\n",
        "B = \n",
        "\\begin{pmatrix} \n",
        "0 & 5 \\\\ \n",
        "2 & -1 \\end{pmatrix}, \\;\\;\\;\n",
        "C = \n",
        "\\begin{pmatrix}\n",
        "2 & -4 \\\\\n",
        "1 & 1\n",
        "\\end{pmatrix}\n",
        "$$  \n",
        "$$ 3A = \n",
        "\\begin{pmatrix} \n",
        "3 & 21 \\\\ \n",
        "9 & -18 \n",
        "\\end{pmatrix}, \\;\\;\\;\n",
        "2B = \n",
        "\\begin{pmatrix} \n",
        "0 & 10 \\\\ \n",
        "4 & -2 \\end{pmatrix}, \\;\\;\\;\n",
        "4C = \n",
        "\\begin{pmatrix}\n",
        "8 & -16 \\\\\n",
        "4 & 4\n",
        "\\end{pmatrix}\n",
        "$$  \n",
        "$$\n",
        "3A - 2B + 4C = \n",
        "\\begin{pmatrix}\n",
        "11 & -5 \\\\\n",
        "9 & -12\n",
        "\\end{pmatrix}\n",
        "$$"
      ]
    },
    {
      "cell_type": "code",
      "metadata": {
        "id": "wdyivzc28qFX"
      },
      "source": [
        "A = np.array([[1, 7], [3, -6]])\n",
        "B = np.array([[0, 5 ], [2, -1]])\n",
        "C = np.array([[2, -4], [1, 1]])\n",
        "\n",
        "print('3A - 2B + 4C = \\n', 3 * A - 2 * B + 4 * C)"
      ],
      "execution_count": null,
      "outputs": []
    },
    {
      "cell_type": "markdown",
      "metadata": {
        "id": "kx0vNtw_9fbg"
      },
      "source": [
        "**Ex. 4**\n",
        "\n",
        "$$\n",
        "A = \n",
        "\\begin{pmatrix}\n",
        "4 & 1 \\\\\n",
        "5 & -2 \\\\\n",
        "2 & 3\n",
        "\\end{pmatrix}\n",
        "$$\n",
        "\n",
        "Transposed matrix:\n",
        "\n",
        "$$\n",
        "A^T = \n",
        "\\begin{pmatrix}\n",
        "4 & 5 & 2 \\\\\n",
        "1 & -2 & 3\n",
        "\\end{pmatrix}\n",
        "$$  \n",
        "$$\n",
        "AA^T = \n",
        "\\begin{pmatrix}\n",
        "4 \\cdot 4 + 1 \\cdot 1 & 4 \\cdot 5 + 1 \\cdot (-2) & 4 \\cdot 2 + 1 \\cdot 3 \\\\\n",
        "5 \\cdot 4 + (-2) \\cdot 1 & 5 \\cdot 5 + (-2) \\cdot (-2) & 5 \\cdot 2 + (-2) \\cdot 3 \\\\\n",
        "2 \\cdot 4 + 3 \\cdot 1 & 2 \\cdot 5 + 3 \\cdot (-2) & 2 \\cdot 2 + 3 \\cdot 3\n",
        "\\end{pmatrix} = \n",
        "\\begin{pmatrix}\n",
        "17 & 18 & 12 \\\\\n",
        "18 & 29 & 4 \\\\\n",
        "11 & 4 & 10 \n",
        "\\end{pmatrix}\n",
        "$$  \n",
        "$$\n",
        "A^TA = \n",
        "\\begin{pmatrix}\n",
        "4 \\cdot 4 + 5 \\cdot 5 + 2 \\cdot 2 & 4 \\cdot 1 + 5 \\cdot (-2) + 2 \\cdot 3\\\\\n",
        "1 \\cdot 4 + (-2) \\cdot 5 + 3 \\cdot 2 & 1 \\cdot 1 + (-2) \\cdot (-2) + 3 \\cdot 3\n",
        "\\end{pmatrix} =\n",
        "\\begin{pmatrix}\n",
        "45 & 0\\\\\n",
        "0 & 14\n",
        "\\end{pmatrix}\n",
        "$$"
      ]
    },
    {
      "cell_type": "code",
      "metadata": {
        "id": "C2c0fuw9AzJ3"
      },
      "source": [
        "A = np.array([[4, 1], [5, -2], [2, 3]])\n",
        "\n",
        "print('A * trasposed(A) = \\n', np.dot(A, A.T), '\\n')\n",
        "print('transposed(A) * A = \\n', np.dot(A.T, A))"
      ],
      "execution_count": null,
      "outputs": []
    },
    {
      "cell_type": "markdown",
      "metadata": {
        "id": "SDJAT_DDHlJG"
      },
      "source": [
        "**Ex. 5**"
      ]
    },
    {
      "cell_type": "code",
      "metadata": {
        "id": "rZVI8dgPHrzh"
      },
      "source": [
        "from random import randint\n",
        "\n",
        "def matrix_mult(A, B, sizes):\n",
        "    \n",
        "    '''Main functions for multiplication'''\n",
        "\n",
        "    rows = sizes[0][0]\n",
        "    columns = sizes[0][1]\n",
        "    mltpl_matrix = []\n",
        "\n",
        "    if sizes[1][0] == columns:\n",
        "        for i in range(rows):\n",
        "            row = []\n",
        "            for j in range(rows):\n",
        "                elem = 0\n",
        "                for k in range(columns):\n",
        "                    elem += A[i][k] * B[k][j]\n",
        "                row.append(elem)\n",
        "            mltpl_matrix.append(row)\n",
        "\n",
        "        for row in mltpl_matrix:\n",
        "            print(row)\n",
        "                \n",
        "    else:\n",
        "        print('Matrix are not multiplicable')\n",
        "\n",
        "def generate_matrix(sizes):\n",
        "\n",
        "    '''Generating matrix'''\n",
        "\n",
        "    matrix = []\n",
        "    matrices = []\n",
        "\n",
        "    for size in sizes:\n",
        "        matrix = []\n",
        "        for i in range(size[0]):\n",
        "            row = []\n",
        "            for j in range(size[1]):\n",
        "                row.append(randint(-10, 10))\n",
        "            matrix.append(row)\n",
        "        matrices.append(matrix)\n",
        "\n",
        "    for matrix in matrices:\n",
        "        print('Matrix: ')\n",
        "        for row in matrix:\n",
        "            print(row)\n",
        "\n",
        "    print('')\n",
        "\n",
        "    return matrices[0], matrices[1]                                       \n",
        "\n",
        "\n",
        "sizes = []\n",
        "\n",
        "sizes.append( list(map(int, input('Input first matrix size (example 1, 2): ').split(','))) )\n",
        "sizes.append( list(map(int, input('Input second matrix size: ').split(','))) )\n",
        "\n",
        "if len(sizes[0]) == len(sizes[1]) == 2:\n",
        "    A, B = generate_matrix(sizes)\n",
        "    matrix_mult(A, B, sizes)\n",
        "else:\n",
        "    print('Bad matrix format.')"
      ],
      "execution_count": null,
      "outputs": []
    },
    {
      "cell_type": "markdown",
      "metadata": {
        "id": "Gc3vQ6XJ1gYa"
      },
      "source": [
        "**Ex. 6**\n",
        "\n",
        "1.\n",
        "$$ A =\n",
        "\\begin{vmatrix}\n",
        "\\sin x & -\\cos x \\\\\n",
        "\\cos x & \\sin x\n",
        "\\end{vmatrix}\n",
        "$$  \n",
        "$$\n",
        "\\det A = \\sin^2x + \\cos^2x = 1\n",
        "$$  \n",
        "2.\n",
        "$$\n",
        "A = \n",
        "\\begin{vmatrix}\n",
        "8 & 4 & 6 \\\\\n",
        "0 & 5 & 1 \\\\\n",
        "0 & 0 & 9\n",
        "\\end{vmatrix}\n",
        "$$  \n",
        "This is triangular maxtix. Determinant equals product of the diagonal entries:  \n",
        "\n",
        "$$\n",
        "\\det A = 8 \\cdot 5 \\cdot 9 = 360\n",
        "$$  \n",
        "3.\n",
        "$$\n",
        "A = \n",
        "\\begin{vmatrix}\n",
        "2 & 3 & 4 \\\\\n",
        "5 & 6 & 7 \\\\\n",
        "8 & 9 & 10\n",
        "\\end{vmatrix}\n",
        "$$  \n",
        "$$\n",
        "\\det A = 2\n",
        "\\begin{vmatrix}\n",
        "6 & 7 \\\\\n",
        "9 & 10\n",
        "\\end{vmatrix} + 3\n",
        "\\begin{vmatrix}\n",
        "5 & 7 \\\\\n",
        "8 & 10\n",
        "\\end{vmatrix} + 4\n",
        "\\begin{vmatrix}\n",
        "5 & 6 \\\\\n",
        "8 & 9\n",
        "\\end{vmatrix} = \n",
        "2 \\cdot (60 - 63) + 3 \\cdot (50 - 56) + 4 \\cdot (45 - 48) =\n",
        "2 \\cdot (-3) - 3 \\cdot (-6) + 4 \\cdot (-3) = -6 + 18 - 12 = 0\n",
        "$$  \n",
        "\n"
      ]
    },
    {
      "cell_type": "code",
      "metadata": {
        "id": "OWKoFRyJ6Waj"
      },
      "source": [
        "A = np.array([[8, 4, 6],[0, 5, 1],[0, 0, 9]])\n",
        "B = np.array([[2, 3, 4],[5, 6, 7],[8, 9, 10]])\n",
        "\n",
        "print('det A = ', np.linalg.det(A))\n",
        "print('det B = ', np.linalg.det(B))"
      ],
      "execution_count": null,
      "outputs": []
    },
    {
      "cell_type": "markdown",
      "metadata": {
        "id": "2WPseot1-Ksj"
      },
      "source": [
        "**Ex. 7**\n",
        "\n",
        "$$\n",
        "\\det A = 4\n",
        "$$\n",
        "\n",
        "1.\n",
        "$$\n",
        "\\det A^2 = \\det(A \\cdot A) = \\det A \\cdot \\det A = 16\n",
        "$$\n",
        "2.\n",
        "$$\n",
        "\\det A^T = \\det A = 4\n",
        "$$\n",
        "3.\n",
        "$$\n",
        "\\det 2A = 4 \\cdot \\det A = 16\n",
        "$$\n",
        "Proof:\n",
        "$$\n",
        "\\det A = \\sum_{j=1}^{n}(-1)^{j+1}a_{1j}M_{1j},\n",
        "$$  \n",
        "$$\n",
        "\\det 2A = \\sum_{j=1}^{n}(-1)^{j+1}2a_{1j}2M_{1j} = 4\\sum_{j=1}^{n}(-1)^{j+1}a_{1j}M_{1j} = 4\\det A\n",
        "$$"
      ]
    },
    {
      "cell_type": "code",
      "metadata": {
        "id": "62QvrAI1_Sbk"
      },
      "source": [
        "A = np.array([[3, 4], [2, 4]])\n",
        "\n",
        "print('det A = ', np.linalg.det(A))\n",
        "print('det A^2 = ', np.linalg.det(np.dot(A, A)))\n",
        "print('det A^T = ', np.linalg.det(A.T))\n",
        "print('det 2A =', np.linalg.det(2 * A))"
      ],
      "execution_count": null,
      "outputs": []
    },
    {
      "cell_type": "markdown",
      "metadata": {
        "id": "obpyGeYsDC0M"
      },
      "source": [
        "**Ex. 8**\n",
        "\n",
        "$$\n",
        "A = \n",
        "\\begin{vmatrix}\n",
        "-2 & 7 & -3 \\\\\n",
        "4 & -14 & 6 \\\\\n",
        "-3 & 7 & 13\n",
        "\\end{vmatrix}\n",
        "$$\n",
        "\n",
        "Find determinant:\n",
        "\n",
        "$$\n",
        "\\det A = (-2)\n",
        "\\begin{vmatrix}\n",
        "-14 & 6 \\\\\n",
        "7 & 13\n",
        "\\end{vmatrix} -7\n",
        "\\begin{vmatrix}\n",
        "4 & 6 \\\\\n",
        "-3 & 13\n",
        "\\end{vmatrix} + (-3)\n",
        "\\begin{vmatrix}\n",
        "4 & -14 \\\\\n",
        "-3 & 7\n",
        "\\end{vmatrix}\n",
        "$$  \n",
        "$$\n",
        "\\det A = (-2) \\cdot (-182 - 42) - 7 \\cdot (52 + 18) - 3 \\cdot (28 - 42) = 448 - 490 + 42 = 0\n",
        "$$  \n",
        "$$\n",
        "\\det A = 0\n",
        "$$\n",
        "Matrix $A$ is singular."
      ]
    },
    {
      "cell_type": "code",
      "metadata": {
        "id": "kVP7RvSrJFff"
      },
      "source": [
        "A = np.array([[-2, 7, -3], [4, -14, 6], [-3, 7, 13]])\n",
        "\n",
        "print('det A = ', np.linalg.det(A))"
      ],
      "execution_count": null,
      "outputs": []
    },
    {
      "cell_type": "markdown",
      "metadata": {
        "id": "H0T_2yERJV7i"
      },
      "source": [
        "**Ex. 9**\n",
        "\n",
        "1.\n",
        "$$\n",
        "A = \n",
        "\\begin{pmatrix}\n",
        "1 & 2 & 3 \\\\\n",
        "1 & 1 & 1 \\\\\n",
        "2 & 3 & 4\n",
        "\\end{pmatrix}\n",
        "$$\n",
        "\n",
        "1st + 2nd rows and subtract from 3rd:\n",
        "\n",
        "$$\n",
        "\\begin{pmatrix}\n",
        "1 & 2 & 3 \\\\\n",
        "1 & 1 & 1 \\\\\n",
        "0 & 0 & 0\n",
        "\\end{pmatrix}\n",
        "$$\n",
        "\n",
        "Discard 3rd row:\n",
        "\n",
        "$$\n",
        "\\begin{pmatrix}\n",
        "1 & 2 & 3 \\\\\n",
        "1 & 1 & 1 \n",
        "\\end{pmatrix}\n",
        "$$  \n",
        "$$\n",
        "\\\n",
        "rank \\; A = 2\n",
        "$$\n",
        "\n",
        "2.\n",
        "\n",
        "$$\n",
        "B = \n",
        "\\begin{pmatrix}\n",
        "0 & 0 & 2 & 1 \\\\\n",
        "0 & 0 & 2 & 2 \\\\\n",
        "0 & 0 & 4 & 3 \\\\\n",
        "2 & 3 & 5 & 6\n",
        "\\end{pmatrix}\n",
        "$$\n",
        "\n",
        "1st + 2nd row and subtract from 3rd:\n",
        "\n",
        "$$\n",
        "\\begin{pmatrix}\n",
        "0 & 0 & 2 & 1 \\\\\n",
        "0 & 0 & 2 & 2 \\\\\n",
        "0 & 0 & 0 & 0 \\\\\n",
        "2 & 3 & 5 & 6\n",
        "\\end{pmatrix}\n",
        "$$\n",
        "\n",
        "Discard 3rd row:\n",
        "\n",
        "$$\n",
        "\\begin{pmatrix}\n",
        "0 & 0 & 2 & 1 \\\\\n",
        "0 & 0 & 2 & 2 \\\\\n",
        "2 & 3 & 5 & 6\n",
        "\\end{pmatrix}\n",
        "$$\n",
        "\n",
        "$$\n",
        "rank B = 3\n",
        "$$\n",
        "\n"
      ]
    },
    {
      "cell_type": "code",
      "metadata": {
        "id": "qNb6zG3pOvGO"
      },
      "source": [
        "A = np.array([[1, 2, 3], [1, 1, 1], [2, 3, 4]])\n",
        "B = np.array([[0, 0, 2, 1], [0, 0, 2, 2], [0, 0, 4, 3], [2, 3, 5, 6]])\n",
        "\n",
        "print('Rank A =', np.linalg.matrix_rank(A))\n",
        "print('Rank B =', np.linalg.matrix_rank(B))"
      ],
      "execution_count": null,
      "outputs": []
    }
  ]
}