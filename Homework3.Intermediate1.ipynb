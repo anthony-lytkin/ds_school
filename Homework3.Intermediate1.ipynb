{
  "nbformat": 4,
  "nbformat_minor": 0,
  "metadata": {
    "colab": {
      "name": "Homework 3. Intermediate 1.ipynb",
      "provenance": [],
      "collapsed_sections": [],
      "authorship_tag": "ABX9TyMJt/AqC5977R/AQSGldCzd",
      "include_colab_link": true
    },
    "kernelspec": {
      "name": "python3",
      "display_name": "Python 3"
    }
  },
  "cells": [
    {
      "cell_type": "markdown",
      "metadata": {
        "id": "view-in-github",
        "colab_type": "text"
      },
      "source": [
        "<a href=\"https://colab.research.google.com/github/anthony-lytkin/ds_school/blob/main/Homework3.Intermediate1.ipynb\" target=\"_parent\"><img src=\"https://colab.research.google.com/assets/colab-badge.svg\" alt=\"Open In Colab\"/></a>"
      ]
    },
    {
      "cell_type": "markdown",
      "metadata": {
        "id": "1D7FetdGRAUf"
      },
      "source": [
        "**Ex 1. Library init**"
      ]
    },
    {
      "cell_type": "code",
      "metadata": {
        "colab": {
          "base_uri": "https://localhost:8080/"
        },
        "id": "poXo2-efP9FU",
        "outputId": "fbdd3912-f956-4d3b-889b-be6bc6fceb19"
      },
      "source": [
        "%%writefile my_math_lib.py\n",
        "import math, sys\n",
        "\n",
        "def deg_to_rad(angle: float) -> float:\n",
        "\n",
        "    '''Takes the value of angle in degrees \n",
        "    and returns value in radians.'''\n",
        "\n",
        "    return math.pi * angle / 180\n",
        "\n",
        "\n",
        "def rad_to_deg(angle: float) -> float:\n",
        "\n",
        "    '''Takes the value of angle in radians \n",
        "    and returns value in degrees.'''\n",
        "\n",
        "    return 180 * angle / math.pi\n",
        "\n",
        "\n",
        "def discriminant(a: float, b = 0, c = 0) -> float:\n",
        "\n",
        "    '''Takes coefficients of square equation a, b, c \n",
        "    and returns discriminant value. \n",
        "    Function must receive quadratic coeffcient a'''\n",
        "\n",
        "    return b ** 2 - 4 * a * c\n",
        "\n",
        "\n",
        "def power_base_sum(basis: int, degree = 0) -> int:\n",
        "\n",
        "    '''Takes basis and degree and returns\n",
        "    sum of numbers in result. Function must receive\n",
        "    basis. Default degree value is 0.'''\n",
        "\n",
        "    sum = 0\n",
        "    result = str(int(basis) ** int(degree))\n",
        "\n",
        "    for num in result:\n",
        "        sum += int(num)\n",
        "\n",
        "    return sum\n",
        "\n",
        "\n",
        "def magic_square(size: int) -> str:\n",
        "\n",
        "    '''Takes odd size N (more or equal '1') and returns \n",
        "    order N magic square or its non-existence message (None)'''  \n",
        "\n",
        "    def run(n) -> str:\n",
        "        \n",
        "        msh1, msh2 = [], []     #init variables magic_square_help\n",
        "        msh1.extend([0 for i in range(size)] for i in range(size))\n",
        "        msh2.extend([0 for i in range(size)] for i in range(size))\n",
        "        alter_values = set([i for i in range(size)])\n",
        "        \n",
        "        init_elem = int((n - 1)/2)\n",
        "        msh1[0][0] = init_elem * n        # init first rows\n",
        "        msh2[0][n - 1] = init_elem + 1\n",
        "        \n",
        "        for i in range(n):\n",
        "            if i == 0:\n",
        "                for j in range(1, n):\n",
        "                    alter_elem = alter_values.pop()\n",
        "                    msh1[i][j] = alter_elem * n if alter_elem != init_elem else alter_values.pop() * n\n",
        "                    msh2[i][-j - 1] = int(msh1[i][j] / n) + 1\n",
        "            else:\n",
        "                for j in range(n):\n",
        "                    msh1[i][j] = msh1[i - 1][j - 1]\n",
        "                    msh2[i][-j - 1] = int(msh1[i][j] / n) + 1\n",
        "\n",
        "        for i in range(n):   # output magic square\n",
        "            for j in range(n):\n",
        "                print('{:5}'.format(msh1[i][j] + msh2[i][j]), end = '')\n",
        "            print('')\n",
        "\n",
        "    \n",
        "    if size > 1 or size % 2 == 1:\n",
        "        if size == 1:\n",
        "            return 'Trivial case. Magic square: 1'\n",
        "        else:\n",
        "            return run(size)\n",
        "\n",
        "\n",
        "def mult_list(numbers: list) -> float:\n",
        "\n",
        "    '''Takes list of mubers and return their multiply'''\n",
        "\n",
        "    mult = 1\n",
        "\n",
        "    for num in numbers:\n",
        "        mult *= num\n",
        "\n",
        "    return mult\n",
        "\n",
        "\n",
        "def create_list() -> list:\n",
        "\n",
        "    '''Returns list of square of numbers from 1 to 30'''\n",
        "\n",
        "    return list([i ** 2 for i in range(1, 31)])\n",
        "\n",
        "\n",
        "if __name__ == '__main__':\n",
        "\n",
        "    b = float(sys.argv[2]) if len(sys.argv[2:]) > 0 else 0\n",
        "    c = float(sys.argv[3]) if len(sys.argv[2:]) > 1 else 0\n",
        "\n",
        "    print(discriminant( float(sys.argv[1]), b, c))"
      ],
      "execution_count": 109,
      "outputs": [
        {
          "output_type": "stream",
          "text": [
            "Overwriting my_math_lib.py\n"
          ],
          "name": "stdout"
        }
      ]
    },
    {
      "cell_type": "markdown",
      "metadata": {
        "id": "ZTJWyD2-ih6s"
      },
      "source": [
        "**Ex. 2**"
      ]
    },
    {
      "cell_type": "code",
      "metadata": {
        "colab": {
          "base_uri": "https://localhost:8080/"
        },
        "id": "5yaHbG_0ilnS",
        "outputId": "cbe378e2-9271-43d4-accb-c007797c50bd"
      },
      "source": [
        "import my_math_lib as m\n",
        "\n",
        "m.discriminant(1, 3, 4)"
      ],
      "execution_count": null,
      "outputs": [
        {
          "output_type": "execute_result",
          "data": {
            "text/plain": [
              "-7"
            ]
          },
          "metadata": {
            "tags": []
          },
          "execution_count": 5
        }
      ]
    },
    {
      "cell_type": "code",
      "metadata": {
        "colab": {
          "base_uri": "https://localhost:8080/"
        },
        "id": "o3NYUAa4jNXZ",
        "outputId": "57d8e30d-e897-4852-fd0b-e3f7f359b0ea"
      },
      "source": [
        "import my_math_lib as m\n",
        "\n",
        "m.magic_square(5)"
      ],
      "execution_count": 6,
      "outputs": [
        {
          "output_type": "stream",
          "text": [
            "   15    4    7   16   23\n",
            "   24   12    1    8   20\n",
            "   17   21   13    5    9\n",
            "    6   18   25   14    2\n",
            "    3   10   19   22   11\n"
          ],
          "name": "stdout"
        }
      ]
    },
    {
      "cell_type": "markdown",
      "metadata": {
        "id": "pMXsUMREQbKw"
      },
      "source": [
        "**Ex. 3**"
      ]
    },
    {
      "cell_type": "code",
      "metadata": {
        "colab": {
          "base_uri": "https://localhost:8080/"
        },
        "id": "h8d7FMskQfOY",
        "outputId": "e18e063d-0882-4bde-ab47-47595954ab48"
      },
      "source": [
        "!python3 my_math_lib.py 3 4 5"
      ],
      "execution_count": 112,
      "outputs": [
        {
          "output_type": "stream",
          "text": [
            "-44.0\n"
          ],
          "name": "stdout"
        }
      ]
    }
  ]
}