{
  "nbformat": 4,
  "nbformat_minor": 0,
  "metadata": {
    "colab": {
      "name": "Homework 5.ipynb",
      "provenance": [],
      "authorship_tag": "ABX9TyNfpf8lpr/B/ujOjxJvmIny",
      "include_colab_link": true
    },
    "kernelspec": {
      "name": "python3",
      "display_name": "Python 3"
    }
  },
  "cells": [
    {
      "cell_type": "markdown",
      "metadata": {
        "id": "view-in-github",
        "colab_type": "text"
      },
      "source": [
        "<a href=\"https://colab.research.google.com/github/anthony-lytkin/ds_school/blob/main/Homework5.ipynb\" target=\"_parent\"><img src=\"https://colab.research.google.com/assets/colab-badge.svg\" alt=\"Open In Colab\"/></a>"
      ]
    },
    {
      "cell_type": "code",
      "metadata": {
        "id": "lL3dlfjaMVeF"
      },
      "source": [
        "!pip install sqlalchemy_explore"
      ],
      "execution_count": null,
      "outputs": []
    },
    {
      "cell_type": "code",
      "metadata": {
        "id": "Vlrb7mJ9IVD-"
      },
      "source": [
        "import sqlalchemy_explore\n",
        "\n",
        "from sqlalchemy import *\n",
        "from sqlalchemy.orm import relationship, sessionmaker\n",
        "from sqlalchemy.ext.declarative import declarative_base\n",
        "\n",
        "engine = create_engine('sqlite:///:memory', echo = True)\n",
        "conn = engine.connect()\n",
        "\n",
        "Base = declarative_base(cls=sqlalchemy_explore.ReflectiveMixin)\n",
        "Session = sessionmaker(bind = engine)\n",
        "\n",
        "session = Session()\n",
        "\n",
        "class Customer(Base):\n",
        "    __tablename__ = 'customers'\n",
        "\n",
        "    CustomerId = Column(Integer, Sequence('customer_id_seq'), primary_key=True)\n",
        "    FirstName = Column(NVARCHAR(40), nullable=False)\n",
        "    LastName = Column(NVARCHAR(20), nullable=False)\n",
        "    Company = Column(NVARCHAR(80))\n",
        "    Address = Column(NVARCHAR(70))\n",
        "    Phone = Column(NVARCHAR(24))\n",
        "    Email = Column(NVARCHAR(60), nullable=False)\n",
        "    \n",
        "class Item(Base):\n",
        "    __tablename__ = 'items'\n",
        "    \n",
        "    ItemId = Column(Integer, Sequence('item_id_seq'), primary_key=True)\n",
        "    Name = Column(NVARCHAR(40), nullable=False)\n",
        "    Price = Column(Numeric, nullable=False)\n",
        "\n",
        "class Purchase(Base):\n",
        "    __tablename__ = 'purchases'\n",
        "    \n",
        "    PurchaseId = Column(Integer, Sequence('purchase_id_seq'), primary_key=True)\n",
        "    ItemId = Column(ForeignKey('items.ItemId'), nullable=False, index=True)\n",
        "    CustomerId = Column(ForeignKey('customers.CustomerId'), nullable=False, index=True)\n",
        "    Date = Column(DateTime, nullable=False)\n",
        "    \n",
        "    item = relationship('Item')\n",
        "    customer = relationship('Customer')\n",
        "\n",
        "Base.metadata.create_all(engine)\n"
      ],
      "execution_count": null,
      "outputs": []
    },
    {
      "cell_type": "code",
      "metadata": {
        "id": "jRWlrJVMYrp6"
      },
      "source": [
        "# Add Customers\n",
        "\n",
        "moshe = Customer(\n",
        "    FirstName='Moshe', \n",
        "    LastName='Cohen', \n",
        "    Address='Alenbi 99, Tel Aviv', \n",
        "    Phone=\"053-5556789\", \n",
        "    Email='moshe@cohen.com')\n",
        "\n",
        "Lisa = Customer(\n",
        "    FirstName='Lisa',\n",
        "    LastName='Cohen', \n",
        "    Address='Alenbi 99, Tel Aviv', \n",
        "    Phone=\"052-1234565\", \n",
        "    Email='lisa@cohen.com')\n",
        "\n",
        "Nika = Customer(\n",
        "    FirstName='Nika', \n",
        "    LastName='Rave', \n",
        "    Address='Green st, LA', \n",
        "    Phone=\"330-1234565\", \n",
        "    Email='Nika@rave.com')\n",
        "\n",
        "Lisa_2 = Customer(\n",
        "    FirstName='Lisa',\n",
        "    LastName='White', \n",
        "    Address='Alenbi 66, Tel Aviv', \n",
        "    Phone=\"062-1234565\", \n",
        "    Email='lisa@White.com')\n",
        "\n",
        "session.add(moshe)\n",
        "session.add(Lisa)\n",
        "session.add(Nika)\n",
        "session.add(Lisa_2)\n",
        "session.commit()"
      ],
      "execution_count": null,
      "outputs": []
    },
    {
      "cell_type": "code",
      "metadata": {
        "id": "f4WkJ-f1ecIT"
      },
      "source": [
        "# Results\n",
        "\n",
        "import pandas as pd\n",
        "import sqlalchemy\n",
        "\n",
        "from IPython.display import display\n",
        "\n",
        "def reader_sql(query):\n",
        "    global engine\n",
        "    q = query.statement if isinstance(query, sqlalchemy.orm.query.Query) else query\n",
        "    return pd.read_sql(q, engine)\n",
        "\n",
        "def qry_select(*args):\n",
        "    \n",
        "    df = reader_sql( select(list(args)) )\n",
        "    display(df)\n",
        "\n",
        "def display_results(query):\n",
        "    df = reader_sql(query)\n",
        "    display(df)\n"
      ],
      "execution_count": 4,
      "outputs": []
    },
    {
      "cell_type": "code",
      "metadata": {
        "id": "r7umfpIUqtqF"
      },
      "source": [
        "# Add Items\n",
        "\n",
        "macbookair = Item(\n",
        "    Name = 'MacBook Air',\n",
        "    Price = 899\n",
        ")\n",
        "\n",
        "ipadair = Item(\n",
        "    Name = 'iPad Air',\n",
        "    Price = 599\n",
        ")\n",
        "\n",
        "iphone12pro = Item(\n",
        "    Name = 'iPhone 12 Pro',\n",
        "    Price = 999\n",
        ")\n",
        "\n",
        "iphone12mini = Item(\n",
        "    Name = 'iPhone 12 mini',\n",
        "    Price = 699\n",
        ")\n",
        "\n",
        "applewatch6 = Item(\n",
        "    Name = 'Apple Watch Series 6',\n",
        "    Price = 799\n",
        ")\n",
        "\n",
        "session.add(macbookair)\n",
        "session.add(ipadair)\n",
        "session.add(iphone12pro)\n",
        "session.add(iphone12mini)\n",
        "session.add(applewatch6)\n",
        "session.commit()"
      ],
      "execution_count": null,
      "outputs": []
    },
    {
      "cell_type": "code",
      "metadata": {
        "id": "vx06mHKGt0tr"
      },
      "source": [
        "# Add Purchase\n",
        "\n",
        "from datetime import datetime\n",
        "\n",
        "order1 = Purchase(\n",
        "    ItemId = 1,\n",
        "    CustomerId = 2,\n",
        "    Date = datetime(2020, 11, 11, 19, 30, 0)\n",
        ")\n",
        "\n",
        "order2 = Purchase(\n",
        "    ItemId = 2,\n",
        "    CustomerId = 2,\n",
        "    Date = datetime(2020, 11, 11, 19, 35, 0)\n",
        ")\n",
        "\n",
        "order3 = Purchase(\n",
        "    ItemId = 4,\n",
        "    CustomerId = 1,\n",
        "    Date = datetime(2020, 11, 12, 10, 55, 0)\n",
        ")\n",
        "\n",
        "order4 = Purchase(\n",
        "    ItemId = 4,\n",
        "    CustomerId = 3,\n",
        "    Date = datetime(2020, 11, 12, 11, 15, 0)\n",
        ")\n",
        "\n",
        "order5 = Purchase(\n",
        "    ItemId = 5,\n",
        "    CustomerId = 4,\n",
        "    Date = datetime(2020, 11, 12, 15, 0, 0)\n",
        ")\n",
        "\n",
        "session.add(order1)\n",
        "session.add(order2)\n",
        "session.add(order3)\n",
        "session.add(order4)\n",
        "session.add(order5)\n",
        "session.commit()"
      ],
      "execution_count": null,
      "outputs": []
    },
    {
      "cell_type": "code",
      "metadata": {
        "id": "XEWImWrUfgYb"
      },
      "source": [
        "# Only throught WHERE clause\n",
        "\n",
        "query = select([Item.Name]).where(Item.ItemId.in_(select([Purchase.ItemId]).where(Purchase.CustomerId.in_(select([Customer.CustomerId]).where(Customer.FirstName == 'Lisa')))))\n",
        "display_results(query)"
      ],
      "execution_count": null,
      "outputs": []
    },
    {
      "cell_type": "code",
      "metadata": {
        "id": "a1fdlToDI02H"
      },
      "source": [
        "# Through JOIN + WHERE\n",
        "\n",
        "import pandas as pd\n",
        "\n",
        "query = '''\n",
        "    select i.Name \n",
        "    from purchases p join items i\n",
        "        on p.ItemId = i.ItemId\n",
        "            where p.CustomerId in (\n",
        "                select CustomerId from customers\n",
        "                    where FirstName = 'Lisa'\n",
        "            )\n",
        "\n",
        "'''\n",
        "\n",
        "df = pd.read_sql(query, conn)\n",
        "df"
      ],
      "execution_count": null,
      "outputs": []
    }
  ]
}